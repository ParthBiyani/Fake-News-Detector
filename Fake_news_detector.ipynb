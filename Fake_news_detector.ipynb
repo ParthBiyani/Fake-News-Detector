{
 "cells": [
  {
   "cell_type": "markdown",
   "id": "ccf04df2",
   "metadata": {},
   "source": [
    "# Data procurement and visualization"
   ]
  },
  {
   "cell_type": "code",
   "execution_count": 3,
   "id": "c295754c",
   "metadata": {},
   "outputs": [],
   "source": [
    "# Importing necessary libraries\n",
    "import numpy as np\n",
    "import pandas as pd\n",
    "\n",
    "import seaborn as sns\n",
    "import matplotlib.pyplot as plt\n",
    "%matplotlib inline"
   ]
  },
  {
   "cell_type": "code",
   "execution_count": 4,
   "id": "c4983cc3",
   "metadata": {},
   "outputs": [],
   "source": [
    "# Loading the data\n",
    "fake = pd.read_csv(\"D:\\Projects\\Fake-News-Detector\\Fake.csv\")\n",
    "true = pd.read_csv(\"D:\\Projects\\Fake-News-Detector\\True.csv\")"
   ]
  },
  {
   "cell_type": "code",
   "execution_count": 5,
   "id": "7d074379",
   "metadata": {},
   "outputs": [
    {
     "data": {
      "text/html": [
       "<div>\n",
       "<style scoped>\n",
       "    .dataframe tbody tr th:only-of-type {\n",
       "        vertical-align: middle;\n",
       "    }\n",
       "\n",
       "    .dataframe tbody tr th {\n",
       "        vertical-align: top;\n",
       "    }\n",
       "\n",
       "    .dataframe thead th {\n",
       "        text-align: right;\n",
       "    }\n",
       "</style>\n",
       "<table border=\"1\" class=\"dataframe\">\n",
       "  <thead>\n",
       "    <tr style=\"text-align: right;\">\n",
       "      <th></th>\n",
       "      <th>title</th>\n",
       "      <th>text</th>\n",
       "      <th>subject</th>\n",
       "      <th>date</th>\n",
       "    </tr>\n",
       "  </thead>\n",
       "  <tbody>\n",
       "    <tr>\n",
       "      <th>0</th>\n",
       "      <td>Donald Trump Sends Out Embarrassing New Year’...</td>\n",
       "      <td>Donald Trump just couldn t wish all Americans ...</td>\n",
       "      <td>News</td>\n",
       "      <td>December 31, 2017</td>\n",
       "    </tr>\n",
       "    <tr>\n",
       "      <th>1</th>\n",
       "      <td>Drunk Bragging Trump Staffer Started Russian ...</td>\n",
       "      <td>House Intelligence Committee Chairman Devin Nu...</td>\n",
       "      <td>News</td>\n",
       "      <td>December 31, 2017</td>\n",
       "    </tr>\n",
       "    <tr>\n",
       "      <th>2</th>\n",
       "      <td>Sheriff David Clarke Becomes An Internet Joke...</td>\n",
       "      <td>On Friday, it was revealed that former Milwauk...</td>\n",
       "      <td>News</td>\n",
       "      <td>December 30, 2017</td>\n",
       "    </tr>\n",
       "    <tr>\n",
       "      <th>3</th>\n",
       "      <td>Trump Is So Obsessed He Even Has Obama’s Name...</td>\n",
       "      <td>On Christmas day, Donald Trump announced that ...</td>\n",
       "      <td>News</td>\n",
       "      <td>December 29, 2017</td>\n",
       "    </tr>\n",
       "    <tr>\n",
       "      <th>4</th>\n",
       "      <td>Pope Francis Just Called Out Donald Trump Dur...</td>\n",
       "      <td>Pope Francis used his annual Christmas Day mes...</td>\n",
       "      <td>News</td>\n",
       "      <td>December 25, 2017</td>\n",
       "    </tr>\n",
       "  </tbody>\n",
       "</table>\n",
       "</div>"
      ],
      "text/plain": [
       "                                               title  \\\n",
       "0   Donald Trump Sends Out Embarrassing New Year’...   \n",
       "1   Drunk Bragging Trump Staffer Started Russian ...   \n",
       "2   Sheriff David Clarke Becomes An Internet Joke...   \n",
       "3   Trump Is So Obsessed He Even Has Obama’s Name...   \n",
       "4   Pope Francis Just Called Out Donald Trump Dur...   \n",
       "\n",
       "                                                text subject  \\\n",
       "0  Donald Trump just couldn t wish all Americans ...    News   \n",
       "1  House Intelligence Committee Chairman Devin Nu...    News   \n",
       "2  On Friday, it was revealed that former Milwauk...    News   \n",
       "3  On Christmas day, Donald Trump announced that ...    News   \n",
       "4  Pope Francis used his annual Christmas Day mes...    News   \n",
       "\n",
       "                date  \n",
       "0  December 31, 2017  \n",
       "1  December 31, 2017  \n",
       "2  December 30, 2017  \n",
       "3  December 29, 2017  \n",
       "4  December 25, 2017  "
      ]
     },
     "execution_count": 5,
     "metadata": {},
     "output_type": "execute_result"
    }
   ],
   "source": [
    "# Checking how the fake data looks like\n",
    "fake.head()"
   ]
  },
  {
   "cell_type": "code",
   "execution_count": 6,
   "id": "11076c7d",
   "metadata": {},
   "outputs": [
    {
     "data": {
      "text/plain": [
       "subject\n",
       "News               9050\n",
       "politics           6841\n",
       "left-news          4459\n",
       "Government News    1570\n",
       "US_News             783\n",
       "Middle-east         778\n",
       "Name: count, dtype: int64"
      ]
     },
     "execution_count": 6,
     "metadata": {},
     "output_type": "execute_result"
    }
   ],
   "source": [
    "# Checking different subjects and their counts for fake data\n",
    "fake[\"subject\"].value_counts()"
   ]
  },
  {
   "cell_type": "code",
   "execution_count": 7,
   "id": "aa171d30",
   "metadata": {},
   "outputs": [
    {
     "data": {
      "text/html": [
       "<div>\n",
       "<style scoped>\n",
       "    .dataframe tbody tr th:only-of-type {\n",
       "        vertical-align: middle;\n",
       "    }\n",
       "\n",
       "    .dataframe tbody tr th {\n",
       "        vertical-align: top;\n",
       "    }\n",
       "\n",
       "    .dataframe thead th {\n",
       "        text-align: right;\n",
       "    }\n",
       "</style>\n",
       "<table border=\"1\" class=\"dataframe\">\n",
       "  <thead>\n",
       "    <tr style=\"text-align: right;\">\n",
       "      <th></th>\n",
       "      <th>title</th>\n",
       "      <th>text</th>\n",
       "      <th>subject</th>\n",
       "      <th>date</th>\n",
       "    </tr>\n",
       "  </thead>\n",
       "  <tbody>\n",
       "    <tr>\n",
       "      <th>0</th>\n",
       "      <td>As U.S. budget fight looms, Republicans flip t...</td>\n",
       "      <td>WASHINGTON (Reuters) - The head of a conservat...</td>\n",
       "      <td>politicsNews</td>\n",
       "      <td>December 31, 2017</td>\n",
       "    </tr>\n",
       "    <tr>\n",
       "      <th>1</th>\n",
       "      <td>U.S. military to accept transgender recruits o...</td>\n",
       "      <td>WASHINGTON (Reuters) - Transgender people will...</td>\n",
       "      <td>politicsNews</td>\n",
       "      <td>December 29, 2017</td>\n",
       "    </tr>\n",
       "    <tr>\n",
       "      <th>2</th>\n",
       "      <td>Senior U.S. Republican senator: 'Let Mr. Muell...</td>\n",
       "      <td>WASHINGTON (Reuters) - The special counsel inv...</td>\n",
       "      <td>politicsNews</td>\n",
       "      <td>December 31, 2017</td>\n",
       "    </tr>\n",
       "    <tr>\n",
       "      <th>3</th>\n",
       "      <td>FBI Russia probe helped by Australian diplomat...</td>\n",
       "      <td>WASHINGTON (Reuters) - Trump campaign adviser ...</td>\n",
       "      <td>politicsNews</td>\n",
       "      <td>December 30, 2017</td>\n",
       "    </tr>\n",
       "    <tr>\n",
       "      <th>4</th>\n",
       "      <td>Trump wants Postal Service to charge 'much mor...</td>\n",
       "      <td>SEATTLE/WASHINGTON (Reuters) - President Donal...</td>\n",
       "      <td>politicsNews</td>\n",
       "      <td>December 29, 2017</td>\n",
       "    </tr>\n",
       "  </tbody>\n",
       "</table>\n",
       "</div>"
      ],
      "text/plain": [
       "                                               title  \\\n",
       "0  As U.S. budget fight looms, Republicans flip t...   \n",
       "1  U.S. military to accept transgender recruits o...   \n",
       "2  Senior U.S. Republican senator: 'Let Mr. Muell...   \n",
       "3  FBI Russia probe helped by Australian diplomat...   \n",
       "4  Trump wants Postal Service to charge 'much mor...   \n",
       "\n",
       "                                                text       subject  \\\n",
       "0  WASHINGTON (Reuters) - The head of a conservat...  politicsNews   \n",
       "1  WASHINGTON (Reuters) - Transgender people will...  politicsNews   \n",
       "2  WASHINGTON (Reuters) - The special counsel inv...  politicsNews   \n",
       "3  WASHINGTON (Reuters) - Trump campaign adviser ...  politicsNews   \n",
       "4  SEATTLE/WASHINGTON (Reuters) - President Donal...  politicsNews   \n",
       "\n",
       "                 date  \n",
       "0  December 31, 2017   \n",
       "1  December 29, 2017   \n",
       "2  December 31, 2017   \n",
       "3  December 30, 2017   \n",
       "4  December 29, 2017   "
      ]
     },
     "execution_count": 7,
     "metadata": {},
     "output_type": "execute_result"
    }
   ],
   "source": [
    "# Checking how the true data looks like\n",
    "true.head()"
   ]
  },
  {
   "cell_type": "code",
   "execution_count": 8,
   "id": "17523405",
   "metadata": {},
   "outputs": [
    {
     "data": {
      "text/plain": [
       "subject\n",
       "politicsNews    11272\n",
       "worldnews       10145\n",
       "Name: count, dtype: int64"
      ]
     },
     "execution_count": 8,
     "metadata": {},
     "output_type": "execute_result"
    }
   ],
   "source": [
    "# Checking different subjects and their counts for true data\n",
    "true[\"subject\"].value_counts()"
   ]
  },
  {
   "cell_type": "code",
   "execution_count": 9,
   "id": "18e488e3",
   "metadata": {},
   "outputs": [],
   "source": [
    "# Creating a category column to determine whether the news is fake or not\n",
    "fake[\"category\"] = 1\n",
    "true[\"category\"] = 0"
   ]
  },
  {
   "cell_type": "code",
   "execution_count": 10,
   "id": "f2c59246",
   "metadata": {},
   "outputs": [
    {
     "data": {
      "text/html": [
       "<div>\n",
       "<style scoped>\n",
       "    .dataframe tbody tr th:only-of-type {\n",
       "        vertical-align: middle;\n",
       "    }\n",
       "\n",
       "    .dataframe tbody tr th {\n",
       "        vertical-align: top;\n",
       "    }\n",
       "\n",
       "    .dataframe thead th {\n",
       "        text-align: right;\n",
       "    }\n",
       "</style>\n",
       "<table border=\"1\" class=\"dataframe\">\n",
       "  <thead>\n",
       "    <tr style=\"text-align: right;\">\n",
       "      <th></th>\n",
       "      <th>title</th>\n",
       "      <th>text</th>\n",
       "      <th>subject</th>\n",
       "      <th>date</th>\n",
       "      <th>category</th>\n",
       "    </tr>\n",
       "  </thead>\n",
       "  <tbody>\n",
       "    <tr>\n",
       "      <th>0</th>\n",
       "      <td>Donald Trump Sends Out Embarrassing New Year’...</td>\n",
       "      <td>Donald Trump just couldn t wish all Americans ...</td>\n",
       "      <td>News</td>\n",
       "      <td>December 31, 2017</td>\n",
       "      <td>1</td>\n",
       "    </tr>\n",
       "    <tr>\n",
       "      <th>1</th>\n",
       "      <td>Drunk Bragging Trump Staffer Started Russian ...</td>\n",
       "      <td>House Intelligence Committee Chairman Devin Nu...</td>\n",
       "      <td>News</td>\n",
       "      <td>December 31, 2017</td>\n",
       "      <td>1</td>\n",
       "    </tr>\n",
       "    <tr>\n",
       "      <th>2</th>\n",
       "      <td>Sheriff David Clarke Becomes An Internet Joke...</td>\n",
       "      <td>On Friday, it was revealed that former Milwauk...</td>\n",
       "      <td>News</td>\n",
       "      <td>December 30, 2017</td>\n",
       "      <td>1</td>\n",
       "    </tr>\n",
       "    <tr>\n",
       "      <th>3</th>\n",
       "      <td>Trump Is So Obsessed He Even Has Obama’s Name...</td>\n",
       "      <td>On Christmas day, Donald Trump announced that ...</td>\n",
       "      <td>News</td>\n",
       "      <td>December 29, 2017</td>\n",
       "      <td>1</td>\n",
       "    </tr>\n",
       "    <tr>\n",
       "      <th>4</th>\n",
       "      <td>Pope Francis Just Called Out Donald Trump Dur...</td>\n",
       "      <td>Pope Francis used his annual Christmas Day mes...</td>\n",
       "      <td>News</td>\n",
       "      <td>December 25, 2017</td>\n",
       "      <td>1</td>\n",
       "    </tr>\n",
       "  </tbody>\n",
       "</table>\n",
       "</div>"
      ],
      "text/plain": [
       "                                               title  \\\n",
       "0   Donald Trump Sends Out Embarrassing New Year’...   \n",
       "1   Drunk Bragging Trump Staffer Started Russian ...   \n",
       "2   Sheriff David Clarke Becomes An Internet Joke...   \n",
       "3   Trump Is So Obsessed He Even Has Obama’s Name...   \n",
       "4   Pope Francis Just Called Out Donald Trump Dur...   \n",
       "\n",
       "                                                text subject  \\\n",
       "0  Donald Trump just couldn t wish all Americans ...    News   \n",
       "1  House Intelligence Committee Chairman Devin Nu...    News   \n",
       "2  On Friday, it was revealed that former Milwauk...    News   \n",
       "3  On Christmas day, Donald Trump announced that ...    News   \n",
       "4  Pope Francis used his annual Christmas Day mes...    News   \n",
       "\n",
       "                date  category  \n",
       "0  December 31, 2017         1  \n",
       "1  December 31, 2017         1  \n",
       "2  December 30, 2017         1  \n",
       "3  December 29, 2017         1  \n",
       "4  December 25, 2017         1  "
      ]
     },
     "execution_count": 10,
     "metadata": {},
     "output_type": "execute_result"
    }
   ],
   "source": [
    "# Joining the 2 datasets together and resetting the indices\n",
    "df = pd.concat([fake, true]).reset_index(drop = True)\n",
    "\n",
    "# Checking the data\n",
    "df.head()\n",
    "# df.tail()"
   ]
  },
  {
   "cell_type": "code",
   "execution_count": 11,
   "id": "33025f13",
   "metadata": {},
   "outputs": [
    {
     "name": "stderr",
     "output_type": "stream",
     "text": [
      "C:\\Users\\Asus\\AppData\\Local\\Temp\\ipykernel_22532\\171533293.py:3: FutureWarning: \n",
      "\n",
      "Passing `palette` without assigning `hue` is deprecated and will be removed in v0.14.0. Assign the `x` variable to `hue` and set `legend=False` for the same effect.\n",
      "\n",
      "  sns.countplot(data=df, x=\"category\", palette = [\"red\", \"green\"])\n"
     ]
    },
    {
     "data": {
      "text/plain": [
       "<Axes: xlabel='category', ylabel='count'>"
      ]
     },
     "execution_count": 11,
     "metadata": {},
     "output_type": "execute_result"
    },
    {
     "data": {
      "image/png": "[encoded data removed]",
      "text/plain": [
       "<Figure size 300x350 with 1 Axes>"
      ]
     },
     "metadata": {},
     "output_type": "display_data"
    }
   ],
   "source": [
    "# Making a basic countplot of the number of fake and true news\n",
    "plt.figure(figsize = (3, 3.5))\n",
    "sns.countplot(data=df, x=\"category\", palette = [\"red\", \"green\"])"
   ]
  },
  {
   "cell_type": "code",
   "execution_count": 12,
   "id": "80820614",
   "metadata": {},
   "outputs": [
    {
     "name": "stderr",
     "output_type": "stream",
     "text": [
      "C:\\Users\\Asus\\AppData\\Local\\Temp\\ipykernel_22532\\2362688050.py:3: FutureWarning: \n",
      "\n",
      "Passing `palette` without assigning `hue` is deprecated and will be removed in v0.14.0. Assign the `x` variable to `hue` and set `legend=False` for the same effect.\n",
      "\n",
      "  sns.countplot(data=df, x=\"subject\", palette=\"Set1\")\n"
     ]
    },
    {
     "data": {
      "text/plain": [
       "<Axes: xlabel='subject', ylabel='count'>"
      ]
     },
     "execution_count": 12,
     "metadata": {},
     "output_type": "execute_result"
    },
    {
     "data": {
      "image/png": "[encoded data removed]",
      "text/plain": [
       "<Figure size 1200x350 with 1 Axes>"
      ]
     },
     "metadata": {},
     "output_type": "display_data"
    }
   ],
   "source": [
    "# Making a basic countplot of the number of different subject of news\n",
    "plt.figure(figsize = (12, 3.5))\n",
    "sns.countplot(data=df, x=\"subject\", palette=\"Set1\")"
   ]
  },
  {
   "cell_type": "markdown",
   "id": "0adf954d",
   "metadata": {},
   "source": [
    "# Data Cleanup"
   ]
  },
  {
   "cell_type": "code",
   "execution_count": 13,
   "id": "1569edeb",
   "metadata": {},
   "outputs": [
    {
     "data": {
      "text/html": [
       "<div>\n",
       "<style scoped>\n",
       "    .dataframe tbody tr th:only-of-type {\n",
       "        vertical-align: middle;\n",
       "    }\n",
       "\n",
       "    .dataframe tbody tr th {\n",
       "        vertical-align: top;\n",
       "    }\n",
       "\n",
       "    .dataframe thead th {\n",
       "        text-align: right;\n",
       "    }\n",
       "</style>\n",
       "<table border=\"1\" class=\"dataframe\">\n",
       "  <thead>\n",
       "    <tr style=\"text-align: right;\">\n",
       "      <th></th>\n",
       "      <th>text</th>\n",
       "      <th>category</th>\n",
       "    </tr>\n",
       "  </thead>\n",
       "  <tbody>\n",
       "    <tr>\n",
       "      <th>0</th>\n",
       "      <td>Donald Trump just couldn t wish all Americans ...</td>\n",
       "      <td>1</td>\n",
       "    </tr>\n",
       "    <tr>\n",
       "      <th>1</th>\n",
       "      <td>House Intelligence Committee Chairman Devin Nu...</td>\n",
       "      <td>1</td>\n",
       "    </tr>\n",
       "    <tr>\n",
       "      <th>2</th>\n",
       "      <td>On Friday, it was revealed that former Milwauk...</td>\n",
       "      <td>1</td>\n",
       "    </tr>\n",
       "    <tr>\n",
       "      <th>3</th>\n",
       "      <td>On Christmas day, Donald Trump announced that ...</td>\n",
       "      <td>1</td>\n",
       "    </tr>\n",
       "    <tr>\n",
       "      <th>4</th>\n",
       "      <td>Pope Francis used his annual Christmas Day mes...</td>\n",
       "      <td>1</td>\n",
       "    </tr>\n",
       "  </tbody>\n",
       "</table>\n",
       "</div>"
      ],
      "text/plain": [
       "                                                text  category\n",
       "0  Donald Trump just couldn t wish all Americans ...         1\n",
       "1  House Intelligence Committee Chairman Devin Nu...         1\n",
       "2  On Friday, it was revealed that former Milwauk...         1\n",
       "3  On Christmas day, Donald Trump announced that ...         1\n",
       "4  Pope Francis used his annual Christmas Day mes...         1"
      ]
     },
     "execution_count": 13,
     "metadata": {},
     "output_type": "execute_result"
    }
   ],
   "source": [
    "# Dropping all unneccessary columns in the dataset\n",
    "df = df[[\"text\", \"category\"]]\n",
    "df.head()"
   ]
  },
  {
   "cell_type": "code",
   "execution_count": 14,
   "id": "6b8db6f7",
   "metadata": {},
   "outputs": [
    {
     "name": "stdout",
     "output_type": "stream",
     "text": [
      "text        0.0\n",
      "category    0.0\n",
      "dtype: float64\n",
      "\n",
      "Empty spaces:  631\n",
      "[10923, 11041, 11190, 11225, 11236, 11241, 11247, 11249, 11267, 11268, 11283, 11284, 11285, 11289, 11290, 11292, 11295, 11296, 11301, 11303, 11304, 11305, 11309, 11314, 11317, 11319, 11322, 11330, 11334, 11335, 11340, 11343, 11348, 11351, 11352, 11357, 11371, 11373, 11374, 11382, 11397, 11402, 11403, 11409, 11410, 11412, 11415, 11419, 11421, 11427, 11431, 11432, 11440, 11448, 11450, 11453, 11462, 11464, 11465, 11472, 11473, 11475, 11478, 11489, 11491, 11493, 11494, 11501, 11505, 11507, 11520, 11531, 11532, 11533, 11538, 11542, 11547, 11549, 11551, 11559, 11563, 11581, 11585, 11589, 11590, 11614, 11624, 11625, 11627, 11631, 11636, 11637, 11643, 11650, 11658, 11661, 11672, 11679, 11681, 11684, 11686, 11688, 11692, 11708, 11718, 11729, 11739, 11753, 11765, 11768, 11777, 11782, 11786, 11788, 11792, 11793, 11803, 11806, 11813, 11821, 11831, 11832, 11841, 11844, 11848, 11854, 11858, 11860, 11863, 11866, 11872, 11874, 11875, 11879, 11881, 11884, 11889, 11893, 11900, 11904, 11906, 11913, 11914, 11915, 11922, 11923, 11929, 11930, 11934, 11936, 11943, 11957, 11960, 11971, 11981, 11988, 11989, 11990, 11996, 11998, 12007, 12011, 12025, 12026, 12028, 12038, 12039, 12055, 12067, 12072, 12074, 12076, 12088, 12097, 12100, 12108, 12109, 12111, 12114, 12116, 12117, 12118, 12120, 12122, 12133, 12136, 12137, 12138, 12141, 12144, 12148, 12150, 12156, 12161, 12163, 12192, 12197, 12203, 12208, 12217, 12218, 12224, 12225, 12229, 12233, 12237, 12241, 12244, 12247, 12249, 12257, 12261, 12268, 12270, 12271, 12276, 12283, 12284, 12286, 12294, 12296, 12297, 12304, 12305, 12308, 12309, 12312, 12313, 12314, 12319, 12324, 12330, 12336, 12339, 12341, 12344, 12350, 12352, 12353, 12360, 12369, 12370, 12371, 12376, 12379, 12381, 12385, 12386, 12387, 12392, 12404, 12409, 12410, 12413, 12419, 12422, 12424, 12430, 12431, 12432, 12437, 12441, 12442, 12445, 12446, 12458, 12465, 12467, 12469, 12473, 12474, 12486, 12493, 12494, 12495, 12502, 12505, 12508, 12511, 12512, 12520, 12532, 12546, 12554, 12558, 12560, 12566, 12572, 12580, 12584, 12585, 12587, 12603, 12605, 12615, 12631, 12643, 12647, 12654, 12655, 12659, 12661, 12662, 12671, 12675, 12679, 12681, 12685, 12697, 12698, 12708, 12715, 12716, 12733, 12739, 12740, 12750, 12757, 12779, 12783, 12785, 12787, 12792, 12798, 12799, 12800, 12802, 12825, 12831, 12838, 12839, 12844, 12862, 12871, 12882, 12899, 12901, 12909, 12914, 12918, 12921, 12939, 12940, 12941, 12982, 12985, 12992, 13005, 13008, 13014, 13017, 13030, 13037, 13044, 13045, 13049, 13050, 13060, 13069, 13073, 13080, 13086, 13088, 13093, 13098, 13108, 13118, 13122, 13474, 13614, 13666, 13963, 14086, 14282, 14289, 14320, 14416, 15363, 15597, 15639, 15641, 15642, 15660, 15661, 15664, 15666, 15673, 15674, 15682, 15693, 15698, 15700, 15705, 15709, 15710, 15718, 15719, 15728, 15747, 15749, 15760, 15771, 15772, 15785, 15786, 15788, 15824, 15842, 16165, 16166, 16173, 16178, 16180, 16182, 16183, 16185, 16189, 16190, 16192, 16193, 16194, 16196, 16199, 16203, 16212, 16214, 16218, 16219, 16220, 16228, 16235, 16245, 16250, 16255, 16258, 16259, 16264, 16267, 16268, 16273, 16287, 16296, 16298, 16301, 16306, 16309, 16313, 16314, 16318, 16327, 16329, 16336, 16343, 16346, 16356, 16358, 16366, 16368, 16377, 16380, 16407, 16408, 16411, 16415, 16418, 16425, 16744, 16987, 17246, 17270, 17290, 17348, 17354, 17355, 17356, 17362, 17373, 17375, 17387, 17418, 18653, 18747, 18856, 18882, 18886, 18897, 18904, 18906, 18914, 18915, 18916, 18922, 18924, 18929, 18935, 18943, 18944, 18957, 18970, 18977, 18978, 18980, 18986, 18994, 19006, 19021, 19023, 19025, 19033, 19035, 19067, 19069, 19077, 19090, 19115, 19118, 19132, 19148, 19151, 19154, 19157, 19161, 19180, 19209, 19215, 19239, 19246, 19251, 19265, 19266, 19268, 19284, 19288, 19291, 19316, 19317, 19322, 19333, 19355, 19362, 19374, 19375, 19393, 19412, 19414, 19416, 19424, 19428, 19446, 19447, 19451, 19459, 19461, 19462, 19493, 19500, 19508, 19511, 19514, 19517, 19520, 19534, 19536, 19558, 19574, 19584, 19585, 19586, 19592, 19598, 19599, 19603, 19606, 19607, 19608, 19612, 19623, 19624, 19634, 19639, 19640, 19641, 19646, 19650, 19656, 19660, 19662, 19673, 19685, 19724, 19747, 19751, 19756, 19765, 19769, 19771, 19782, 19783, 19791, 19805, 19806, 19844, 19845, 19846, 19863, 19867, 19895, 19899, 19935, 19973, 20029, 20394, 20715, 21237, 21584, 21714, 21715, 21751, 21775, 21780, 21785, 21786, 21787, 21813, 21815, 21816, 21826, 21827, 21857, 21873, 32451]\n"
     ]
    }
   ],
   "source": [
    "# Checking the percentage of data that is null or is empty space\n",
    "print(df.isna().sum()*100/len(df))\n",
    "\n",
    "blanks = []\n",
    "for index, text in df[\"text\"].items():\n",
    "    if text.isspace():\n",
    "        blanks.append(index)\n",
    "print(\"\\nEmpty spaces: \", len(blanks))\n",
    "print(blanks)\n",
    "\n",
    "# df.text[10923]"
   ]
  },
  {
   "cell_type": "code",
   "execution_count": 15,
   "id": "515b2cef",
   "metadata": {},
   "outputs": [
    {
     "name": "stdout",
     "output_type": "stream",
     "text": [
      "Original shape of the dataframe (before dropping empty spaces):  (44898, 2)\n",
      "New shape of the dataframe (after dropping empty spaces):  (44267, 2)\n"
     ]
    }
   ],
   "source": [
    "# Dropping all the empty spaces from the dataset\n",
    "print(\"Original shape of the dataframe (before dropping empty spaces): \", df.shape)\n",
    "df = df.drop(blanks)\n",
    "print(\"New shape of the dataframe (after dropping empty spaces): \", df.shape)"
   ]
  },
  {
   "cell_type": "code",
   "execution_count": null,
   "id": "e7d72d70",
   "metadata": {},
   "outputs": [
    {
     "name": "stderr",
     "output_type": "stream",
     "text": [
      "[nltk_data] Downloading package stopwords to\n",
      "[nltk_data]     C:\\Users\\Asus\\AppData\\Roaming\\nltk_data...\n",
      "[nltk_data]   Package stopwords is already up-to-date!\n",
      "[nltk_data] Downloading package wordnet to\n",
      "[nltk_data]     C:\\Users\\Asus\\AppData\\Roaming\\nltk_data...\n"
     ]
    },
    {
     "data": {
      "text/plain": [
       "True"
      ]
     },
     "execution_count": 22,
     "metadata": {},
     "output_type": "execute_result"
    }
   ],
   "source": [
    "# import nltk\n",
    "# nltk.download('stopwords')\n",
    "# nltk.download('wordnet')"
   ]
  },
  {
   "cell_type": "code",
   "execution_count": 17,
   "id": "71ed1db5",
   "metadata": {},
   "outputs": [],
   "source": [
    "from nltk.corpus import stopwords\n",
    "from nltk.stem import WordNetLemmatizer\n",
    "import spacy\n",
    "import re\n",
    "nlp = spacy.load(\"en_core_web_sm\")\n",
    "lemma = WordNetLemmatizer()"
   ]
  },
  {
   "cell_type": "markdown",
   "id": "e2917efe",
   "metadata": {},
   "source": [
    "Stopwords:\n",
    "\n",
    "A stop word is commonly used word (such as \"the\", \"a\", \"an\", \"in\" etc.) that a search engine has been programmed to ignore, both when indexing entries for searching and when retrieving them as a result of a search query. We would not want these words to take up space in our database, or taking up valuable processing time. For this, we can remove them easily, by storing a list of words that you consider to be stop words. NLTK (Natural Language ToolKit) in python has a list of stopwords stored in 16 different languages. You can find them in the nltk_data directory."
   ]
  },
  {
   "cell_type": "code",
   "execution_count": 18,
   "id": "e56b7395",
   "metadata": {},
   "outputs": [
    {
     "name": "stdout",
     "output_type": "stream",
     "text": [
      "401\n",
      "{'y', 'besides', 'seemed', 'do', 'elsewhere', 'who', \"i'll\", 'have', 'itself', 'almost', 'any', 'most', 'then', 'him', 'less', 'otherwise', 'anywhere', 'off', 'down', 'was', 'an', 'has', 'hereupon', 'there', 'mightn', 'here', 'various', 'due', 'again', 'beyond', '‘m', 'would', \"isn't\", '‘ve', 'much', 'been', 'sometimes', 'one', 'our', 'me', 'twenty', 'via', 'theirs', 'had', 'these', 'why', 'even', \"should've\", 'since', \"shan't\", '’s', 'wasn', 'moreover', 'amongst', 'o', 'within', 'well', 'fifteen', '’ll', \"hasn't\", \"it'd\", 'several', 'weren', 'i', 'except', 'yourself', 'before', 'myself', 'now', 'doing', 'does', 'empty', 'for', 'up', 'shouldn', \"'s\", 'about', '’re', 'd', 'could', 'having', 'whereafter', 'yet', 'but', 'thereupon', \"she's\", 'although', 'is', 'show', 'someone', 'serious', 'first', 'all', 'whither', 'couldn', 'haven', 'mustn', \"it'll\", \"i'm\", 'am', 'shan', 'perhaps', 'can', 'front', 'or', 'meanwhile', 'those', 'hasn', \"'re\", 'by', 'too', 'its', \"she'd\", 'just', 'across', 'thereafter', 'top', 'aren', 'seem', \"that'll\", \"wasn't\", 'made', 'still', 'noone', 'put', 'three', \"they've\", 'many', \"she'll\", 'his', 'after', \"doesn't\", 'might', 'namely', 'not', 'out', 'call', 'over', 'you', 'at', 'further', 'among', 'to', 'really', 'latterly', 'm', 'quite', 'say', 'own', 'nothing', 'whole', 'behind', 'where', 'beforehand', 't', 'above', 'they', 'whether', 'move', 'get', \"n't\", 'without', 'of', 'using', 'give', 'five', \"you're\", 'done', 'six', 'thence', 'thereby', 'my', '‘d', \"they'll\", 'became', 'as', 'her', 'two', 'were', 'whom', 'seems', 'will', 'yours', \"i've\", \"you've\", 'beside', \"didn't\", \"wouldn't\", 'are', 'though', 'cannot', 'their', 'every', 'towards', 'hereby', \"'d\", 'ourselves', 'may', 'during', 'latter', \"don't\", \"they'd\", 'everyone', 'same', 'other', 'somewhere', 'amount', 'on', 'a', 'each', \"needn't\", 'which', 'four', 'won', 'hers', 'somehow', 'whatever', 'herein', 'through', \"you'll\", \"we've\", 'others', 'your', 'hundred', 'everything', 'sometime', \"he's\", 'full', 'under', 'ever', '’ve', 'therefore', 'n‘t', 'nobody', 'mine', '‘s', 'be', 'regarding', 'often', 'the', '‘re', 'whence', 'needn', 'next', 'either', \"they're\", 'anyhow', 'with', 'so', 'together', 'and', 'isn', 'indeed', 'hence', 'nevertheless', 'however', 'becomes', \"won't\", \"weren't\", 'being', 'afterwards', 'neither', \"we'd\", 'whoever', 'twelve', 'such', 'seeming', 'name', 'everywhere', 'them', 'ma', 'sixty', 'whereas', 'become', 'against', 'herself', 'make', 'wherein', 'both', 'always', 'side', 'ca', 'throughout', \"hadn't\", 'don', 'wherever', 'hadn', 'former', 're', 'ten', 'what', \"he'll\", 'last', 'she', 'in', 'more', 'when', 'whereupon', 'ain', 'us', 'please', 'onto', 'did', 'per', \"'ll\", 'least', 'this', 'already', 'very', '‘ll', 'forty', 'anyone', 'used', \"'ve\", \"haven't\", 'nine', 'until', 'upon', \"we'll\", 'n’t', \"it's\", 'from', 'anyway', 'it', 'go', 'we', 'toward', 'while', \"couldn't\", \"mustn't\", 'rather', 'never', 'how', 'else', 'something', 'between', 'third', 'anything', 'none', 've', \"we're\", \"you'd\", 'whenever', 'himself', 'themselves', 'nowhere', 'whose', \"shouldn't\", 'bottom', 'doesn', 'therein', \"mightn't\", \"'m\", 's', 'didn', '’d', 'whereby', 'because', 'hereafter', 'nor', 'only', 'alone', 'along', 'that', 'some', 'thus', 'formerly', 'below', 'few', 'around', 'should', 'must', 'unless', 'if', 'eight', 'thru', 'back', 'into', 'ours', \"i'd\", \"aren't\", 'eleven', 'mostly', 'no', 'another', 'fifty', 'take', 'also', 'he', 'see', \"he'd\", 'wouldn', 'yourselves', 'once', 'keep', '’m', 'part', 'than', 'enough', 'becoming', 'll'}\n"
     ]
    }
   ],
   "source": [
    "# Collecting stopwords from both spacy and nltk and combining them\n",
    "list1 = nlp.Defaults.stop_words\n",
    "list2 = stopwords.words('english')\n",
    "\n",
    "Stopwords = set((set(list1) | set(list2)))\n",
    "print(len(Stopwords))\n",
    "print(Stopwords)"
   ]
  },
  {
   "cell_type": "code",
   "execution_count": null,
   "id": "06f49ca8",
   "metadata": {},
   "outputs": [],
   "source": [
    "# Defining a custom function for cleaning the text further\n",
    "def clean_text(text):\n",
    "    string = \"\"\n",
    "\n",
    "    # Convert the text to lower case\n",
    "    text = text.lower()\n",
    "\n",
    "    # Simplify text\n",
    "    text = re.sub(r\"i'm\", \"i am\", text)\n",
    "    text = re.sub(r\"he's\", \"he is\", text)\n",
    "    text = re.sub(r\"she's\", \"she is\", text)\n",
    "    text = re.sub(r\"that's\", \"that is\", text)\n",
    "    text = re.sub(r\"what's\", \"what is\", text)\n",
    "    text = re.sub(r\"where's\", \"where is\", text)\n",
    "    text = re.sub(r\"won't\", \"will not\", text)\n",
    "    text = re.sub(r\"can't\", \"could not\", text)\n",
    "    text = re.sub(r\"\\'ll\", \"will\", text)\n",
    "    text = re.sub(r\"\\'ve\", \"have\", text)\n",
    "    text = re.sub(r\"\\'re\", \"are\", text)\n",
    "    text = re.sub(r\"\\'d\", \"would\", text)\n",
    "\n",
    "    # Removing any special character\n",
    "    text = re.sub(r\"[-()\\\"#!@$%^&*{}?.,:]\", \" \", text)\n",
    "    text = re.sub(r\"\\s+\", \" \", text)\n",
    "    text = re.sub(\"[^A-Za-z0-9]+\", \" \", text)\n",
    "\n",
    "    for word in text.split():\n",
    "        if word not in Stopwords:\n",
    "            string += lemma.lemmatize(word) + \" \"\n",
    "\n",
    "    return string"
   ]
  },
  {
   "cell_type": "code",
   "execution_count": null,
   "id": "2fdc7aff",
   "metadata": {},
   "outputs": [
    {
     "data": {
      "text/plain": [
       "0        donald trump wish american happy new year leav...\n",
       "1        house intelligence committee chairman devin nu...\n",
       "2        friday revealed milwaukee sheriff david clarke...\n",
       "3        christmas day donald trump announced work foll...\n",
       "4        pope francis annual christmas day message rebu...\n",
       "                               ...                        \n",
       "44893    brussels reuters nato ally tuesday welcomed pr...\n",
       "44894    london reuters lexisnexis provider legal regul...\n",
       "44895    minsk reuters shadow disused soviet era factor...\n",
       "44896    moscow reuters vatican secretary state cardina...\n",
       "44897    jakarta reuters indonesia buy 11 sukhoi fighte...\n",
       "Name: text, Length: 44267, dtype: object"
      ]
     },
     "execution_count": 28,
     "metadata": {},
     "output_type": "execute_result"
    }
   ],
   "source": [
    "# Applying the clean_text function on every news text in the dataset\n",
    "df[\"text\"] = df[\"text\"].apply(clean_text)\n",
    "df[\"text\"]"
   ]
  }
 ],
 "metadata": {
  "kernelspec": {
   "display_name": "spacy_env",
   "language": "python",
   "name": "python3"
  },
  "language_info": {
   "codemirror_mode": {
    "name": "ipython",
    "version": 3
   },
   "file_extension": ".py",
   "mimetype": "text/x-python",
   "name": "python",
   "nbconvert_exporter": "python",
   "pygments_lexer": "ipython3",
   "version": "3.11.7"
  }
 },
 "nbformat": 4,
 "nbformat_minor": 5
}
